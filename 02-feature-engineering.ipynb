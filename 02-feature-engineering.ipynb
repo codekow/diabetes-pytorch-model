{
 "cells": [
  {
   "cell_type": "markdown",
   "id": "9cf8f1d1-7969-4219-a893-21d65f49c9b0",
   "metadata": {},
   "source": [
    "## Feature Engineering\n",
    "In notebook 01-eda.ipynb we explored our data, Exploring the data is a vital part of the data science workflow - it's important to understand what information the data holds and get a sense, early on, as to whether or not the data will be sufficient to provide insights into the question at hand. In our case, this question is 'can we determine if a female patient has diabetes'.\n",
    "\n",
    "We were able to see patterns and correlations in the data, which implies that we should probably proceed to the next step of the machine learning workflow, namely Feature Engineering.\n",
    "\n",
    "Feature Engineering aims to process the data into a format which the machine learning model will interpret correctly. In this notebook we will transform our data, whilst ensuring that the transformed data still holds enough information to determine if a female patient has diabetes"
   ]
  },
  {
   "cell_type": "raw",
   "id": "88b25a2b-054e-42e4-af84-7edadb9267d8",
   "metadata": {},
   "source": []
  }
 ],
 "metadata": {
  "kernelspec": {
   "display_name": "Python 3 (ipykernel)",
   "language": "python",
   "name": "python3"
  },
  "language_info": {
   "codemirror_mode": {
    "name": "ipython",
    "version": 3
   },
   "file_extension": ".py",
   "mimetype": "text/x-python",
   "name": "python",
   "nbconvert_exporter": "python",
   "pygments_lexer": "ipython3",
   "version": "3.8.8"
  }
 },
 "nbformat": 4,
 "nbformat_minor": 5
}
